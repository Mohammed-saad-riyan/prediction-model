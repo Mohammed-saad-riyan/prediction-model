{
  "nbformat": 4,
  "nbformat_minor": 0,
  "metadata": {
    "colab": {
      "provenance": []
    },
    "kernelspec": {
      "name": "python3",
      "display_name": "Python 3"
    },
    "language_info": {
      "name": "python"
    }
  },
  "cells": [
    {
      "cell_type": "code",
      "execution_count": 4,
      "metadata": {
        "id": "cwWo3j8BrU3U"
      },
      "outputs": [],
      "source": [
        "import pandas as pd\n",
        "data = pd.read_csv(\"/content/exams.csv\")"
      ]
    },
    {
      "cell_type": "code",
      "source": [
        "data"
      ],
      "metadata": {
        "colab": {
          "base_uri": "https://localhost:8080/",
          "height": 458
        },
        "id": "hKabaYx_so6Z",
        "outputId": "ae89cfdd-6661-47e4-bbaa-bbd580017257"
      },
      "execution_count": 5,
      "outputs": [
        {
          "output_type": "execute_result",
          "data": {
            "text/plain": [
              "     gender race/ethnicity parental level of education         lunch  \\\n",
              "0      male        group A                 high school      standard   \n",
              "1    female        group D            some high school  free/reduced   \n",
              "2      male        group E                some college  free/reduced   \n",
              "3      male        group B                 high school      standard   \n",
              "4      male        group E          associate's degree      standard   \n",
              "..      ...            ...                         ...           ...   \n",
              "995    male        group C                 high school      standard   \n",
              "996    male        group D          associate's degree  free/reduced   \n",
              "997  female        group C            some high school  free/reduced   \n",
              "998  female        group C                some college      standard   \n",
              "999    male        group A                some college      standard   \n",
              "\n",
              "    test preparation course  math score  reading score  writing score  \n",
              "0                 completed        67.0           67.0           63.0  \n",
              "1                      none        40.0           59.0           55.0  \n",
              "2                      none        59.0           60.0           50.0  \n",
              "3                      none        77.0           78.0           68.0  \n",
              "4                 completed        78.0           73.0           68.0  \n",
              "..                      ...         ...            ...            ...  \n",
              "995                    none        73.0           70.0           65.0  \n",
              "996               completed        85.0           91.0           92.0  \n",
              "997                    none        32.0           35.0           41.0  \n",
              "998                    none        73.0           74.0           82.0  \n",
              "999               completed        65.0           60.0           62.0  \n",
              "\n",
              "[1000 rows x 8 columns]"
            ],
            "text/html": [
              "\n",
              "  <div id=\"df-9a8fadf4-7646-455f-86ba-d0e21ff3ea41\" class=\"colab-df-container\">\n",
              "    <div>\n",
              "<style scoped>\n",
              "    .dataframe tbody tr th:only-of-type {\n",
              "        vertical-align: middle;\n",
              "    }\n",
              "\n",
              "    .dataframe tbody tr th {\n",
              "        vertical-align: top;\n",
              "    }\n",
              "\n",
              "    .dataframe thead th {\n",
              "        text-align: right;\n",
              "    }\n",
              "</style>\n",
              "<table border=\"1\" class=\"dataframe\">\n",
              "  <thead>\n",
              "    <tr style=\"text-align: right;\">\n",
              "      <th></th>\n",
              "      <th>gender</th>\n",
              "      <th>race/ethnicity</th>\n",
              "      <th>parental level of education</th>\n",
              "      <th>lunch</th>\n",
              "      <th>test preparation course</th>\n",
              "      <th>math score</th>\n",
              "      <th>reading score</th>\n",
              "      <th>writing score</th>\n",
              "    </tr>\n",
              "  </thead>\n",
              "  <tbody>\n",
              "    <tr>\n",
              "      <th>0</th>\n",
              "      <td>male</td>\n",
              "      <td>group A</td>\n",
              "      <td>high school</td>\n",
              "      <td>standard</td>\n",
              "      <td>completed</td>\n",
              "      <td>67.0</td>\n",
              "      <td>67.0</td>\n",
              "      <td>63.0</td>\n",
              "    </tr>\n",
              "    <tr>\n",
              "      <th>1</th>\n",
              "      <td>female</td>\n",
              "      <td>group D</td>\n",
              "      <td>some high school</td>\n",
              "      <td>free/reduced</td>\n",
              "      <td>none</td>\n",
              "      <td>40.0</td>\n",
              "      <td>59.0</td>\n",
              "      <td>55.0</td>\n",
              "    </tr>\n",
              "    <tr>\n",
              "      <th>2</th>\n",
              "      <td>male</td>\n",
              "      <td>group E</td>\n",
              "      <td>some college</td>\n",
              "      <td>free/reduced</td>\n",
              "      <td>none</td>\n",
              "      <td>59.0</td>\n",
              "      <td>60.0</td>\n",
              "      <td>50.0</td>\n",
              "    </tr>\n",
              "    <tr>\n",
              "      <th>3</th>\n",
              "      <td>male</td>\n",
              "      <td>group B</td>\n",
              "      <td>high school</td>\n",
              "      <td>standard</td>\n",
              "      <td>none</td>\n",
              "      <td>77.0</td>\n",
              "      <td>78.0</td>\n",
              "      <td>68.0</td>\n",
              "    </tr>\n",
              "    <tr>\n",
              "      <th>4</th>\n",
              "      <td>male</td>\n",
              "      <td>group E</td>\n",
              "      <td>associate's degree</td>\n",
              "      <td>standard</td>\n",
              "      <td>completed</td>\n",
              "      <td>78.0</td>\n",
              "      <td>73.0</td>\n",
              "      <td>68.0</td>\n",
              "    </tr>\n",
              "    <tr>\n",
              "      <th>...</th>\n",
              "      <td>...</td>\n",
              "      <td>...</td>\n",
              "      <td>...</td>\n",
              "      <td>...</td>\n",
              "      <td>...</td>\n",
              "      <td>...</td>\n",
              "      <td>...</td>\n",
              "      <td>...</td>\n",
              "    </tr>\n",
              "    <tr>\n",
              "      <th>995</th>\n",
              "      <td>male</td>\n",
              "      <td>group C</td>\n",
              "      <td>high school</td>\n",
              "      <td>standard</td>\n",
              "      <td>none</td>\n",
              "      <td>73.0</td>\n",
              "      <td>70.0</td>\n",
              "      <td>65.0</td>\n",
              "    </tr>\n",
              "    <tr>\n",
              "      <th>996</th>\n",
              "      <td>male</td>\n",
              "      <td>group D</td>\n",
              "      <td>associate's degree</td>\n",
              "      <td>free/reduced</td>\n",
              "      <td>completed</td>\n",
              "      <td>85.0</td>\n",
              "      <td>91.0</td>\n",
              "      <td>92.0</td>\n",
              "    </tr>\n",
              "    <tr>\n",
              "      <th>997</th>\n",
              "      <td>female</td>\n",
              "      <td>group C</td>\n",
              "      <td>some high school</td>\n",
              "      <td>free/reduced</td>\n",
              "      <td>none</td>\n",
              "      <td>32.0</td>\n",
              "      <td>35.0</td>\n",
              "      <td>41.0</td>\n",
              "    </tr>\n",
              "    <tr>\n",
              "      <th>998</th>\n",
              "      <td>female</td>\n",
              "      <td>group C</td>\n",
              "      <td>some college</td>\n",
              "      <td>standard</td>\n",
              "      <td>none</td>\n",
              "      <td>73.0</td>\n",
              "      <td>74.0</td>\n",
              "      <td>82.0</td>\n",
              "    </tr>\n",
              "    <tr>\n",
              "      <th>999</th>\n",
              "      <td>male</td>\n",
              "      <td>group A</td>\n",
              "      <td>some college</td>\n",
              "      <td>standard</td>\n",
              "      <td>completed</td>\n",
              "      <td>65.0</td>\n",
              "      <td>60.0</td>\n",
              "      <td>62.0</td>\n",
              "    </tr>\n",
              "  </tbody>\n",
              "</table>\n",
              "<p>1000 rows × 8 columns</p>\n",
              "</div>\n",
              "    <div class=\"colab-df-buttons\">\n",
              "\n",
              "  <div class=\"colab-df-container\">\n",
              "    <button class=\"colab-df-convert\" onclick=\"convertToInteractive('df-9a8fadf4-7646-455f-86ba-d0e21ff3ea41')\"\n",
              "            title=\"Convert this dataframe to an interactive table.\"\n",
              "            style=\"display:none;\">\n",
              "\n",
              "  <svg xmlns=\"http://www.w3.org/2000/svg\" height=\"24px\" viewBox=\"0 -960 960 960\">\n",
              "    <path d=\"M120-120v-720h720v720H120Zm60-500h600v-160H180v160Zm220 220h160v-160H400v160Zm0 220h160v-160H400v160ZM180-400h160v-160H180v160Zm440 0h160v-160H620v160ZM180-180h160v-160H180v160Zm440 0h160v-160H620v160Z\"/>\n",
              "  </svg>\n",
              "    </button>\n",
              "\n",
              "  <style>\n",
              "    .colab-df-container {\n",
              "      display:flex;\n",
              "      gap: 12px;\n",
              "    }\n",
              "\n",
              "    .colab-df-convert {\n",
              "      background-color: #E8F0FE;\n",
              "      border: none;\n",
              "      border-radius: 50%;\n",
              "      cursor: pointer;\n",
              "      display: none;\n",
              "      fill: #1967D2;\n",
              "      height: 32px;\n",
              "      padding: 0 0 0 0;\n",
              "      width: 32px;\n",
              "    }\n",
              "\n",
              "    .colab-df-convert:hover {\n",
              "      background-color: #E2EBFA;\n",
              "      box-shadow: 0px 1px 2px rgba(60, 64, 67, 0.3), 0px 1px 3px 1px rgba(60, 64, 67, 0.15);\n",
              "      fill: #174EA6;\n",
              "    }\n",
              "\n",
              "    .colab-df-buttons div {\n",
              "      margin-bottom: 4px;\n",
              "    }\n",
              "\n",
              "    [theme=dark] .colab-df-convert {\n",
              "      background-color: #3B4455;\n",
              "      fill: #D2E3FC;\n",
              "    }\n",
              "\n",
              "    [theme=dark] .colab-df-convert:hover {\n",
              "      background-color: #434B5C;\n",
              "      box-shadow: 0px 1px 3px 1px rgba(0, 0, 0, 0.15);\n",
              "      filter: drop-shadow(0px 1px 2px rgba(0, 0, 0, 0.3));\n",
              "      fill: #FFFFFF;\n",
              "    }\n",
              "  </style>\n",
              "\n",
              "    <script>\n",
              "      const buttonEl =\n",
              "        document.querySelector('#df-9a8fadf4-7646-455f-86ba-d0e21ff3ea41 button.colab-df-convert');\n",
              "      buttonEl.style.display =\n",
              "        google.colab.kernel.accessAllowed ? 'block' : 'none';\n",
              "\n",
              "      async function convertToInteractive(key) {\n",
              "        const element = document.querySelector('#df-9a8fadf4-7646-455f-86ba-d0e21ff3ea41');\n",
              "        const dataTable =\n",
              "          await google.colab.kernel.invokeFunction('convertToInteractive',\n",
              "                                                    [key], {});\n",
              "        if (!dataTable) return;\n",
              "\n",
              "        const docLinkHtml = 'Like what you see? Visit the ' +\n",
              "          '<a target=\"_blank\" href=https://colab.research.google.com/notebooks/data_table.ipynb>data table notebook</a>'\n",
              "          + ' to learn more about interactive tables.';\n",
              "        element.innerHTML = '';\n",
              "        dataTable['output_type'] = 'display_data';\n",
              "        await google.colab.output.renderOutput(dataTable, element);\n",
              "        const docLink = document.createElement('div');\n",
              "        docLink.innerHTML = docLinkHtml;\n",
              "        element.appendChild(docLink);\n",
              "      }\n",
              "    </script>\n",
              "  </div>\n",
              "\n",
              "\n",
              "<div id=\"df-73fb0ceb-547f-452c-8e62-35d8f675c812\">\n",
              "  <button class=\"colab-df-quickchart\" onclick=\"quickchart('df-73fb0ceb-547f-452c-8e62-35d8f675c812')\"\n",
              "            title=\"Suggest charts\"\n",
              "            style=\"display:none;\">\n",
              "\n",
              "<svg xmlns=\"http://www.w3.org/2000/svg\" height=\"24px\"viewBox=\"0 0 24 24\"\n",
              "     width=\"24px\">\n",
              "    <g>\n",
              "        <path d=\"M19 3H5c-1.1 0-2 .9-2 2v14c0 1.1.9 2 2 2h14c1.1 0 2-.9 2-2V5c0-1.1-.9-2-2-2zM9 17H7v-7h2v7zm4 0h-2V7h2v10zm4 0h-2v-4h2v4z\"/>\n",
              "    </g>\n",
              "</svg>\n",
              "  </button>\n",
              "\n",
              "<style>\n",
              "  .colab-df-quickchart {\n",
              "      --bg-color: #E8F0FE;\n",
              "      --fill-color: #1967D2;\n",
              "      --hover-bg-color: #E2EBFA;\n",
              "      --hover-fill-color: #174EA6;\n",
              "      --disabled-fill-color: #AAA;\n",
              "      --disabled-bg-color: #DDD;\n",
              "  }\n",
              "\n",
              "  [theme=dark] .colab-df-quickchart {\n",
              "      --bg-color: #3B4455;\n",
              "      --fill-color: #D2E3FC;\n",
              "      --hover-bg-color: #434B5C;\n",
              "      --hover-fill-color: #FFFFFF;\n",
              "      --disabled-bg-color: #3B4455;\n",
              "      --disabled-fill-color: #666;\n",
              "  }\n",
              "\n",
              "  .colab-df-quickchart {\n",
              "    background-color: var(--bg-color);\n",
              "    border: none;\n",
              "    border-radius: 50%;\n",
              "    cursor: pointer;\n",
              "    display: none;\n",
              "    fill: var(--fill-color);\n",
              "    height: 32px;\n",
              "    padding: 0;\n",
              "    width: 32px;\n",
              "  }\n",
              "\n",
              "  .colab-df-quickchart:hover {\n",
              "    background-color: var(--hover-bg-color);\n",
              "    box-shadow: 0 1px 2px rgba(60, 64, 67, 0.3), 0 1px 3px 1px rgba(60, 64, 67, 0.15);\n",
              "    fill: var(--button-hover-fill-color);\n",
              "  }\n",
              "\n",
              "  .colab-df-quickchart-complete:disabled,\n",
              "  .colab-df-quickchart-complete:disabled:hover {\n",
              "    background-color: var(--disabled-bg-color);\n",
              "    fill: var(--disabled-fill-color);\n",
              "    box-shadow: none;\n",
              "  }\n",
              "\n",
              "  .colab-df-spinner {\n",
              "    border: 2px solid var(--fill-color);\n",
              "    border-color: transparent;\n",
              "    border-bottom-color: var(--fill-color);\n",
              "    animation:\n",
              "      spin 1s steps(1) infinite;\n",
              "  }\n",
              "\n",
              "  @keyframes spin {\n",
              "    0% {\n",
              "      border-color: transparent;\n",
              "      border-bottom-color: var(--fill-color);\n",
              "      border-left-color: var(--fill-color);\n",
              "    }\n",
              "    20% {\n",
              "      border-color: transparent;\n",
              "      border-left-color: var(--fill-color);\n",
              "      border-top-color: var(--fill-color);\n",
              "    }\n",
              "    30% {\n",
              "      border-color: transparent;\n",
              "      border-left-color: var(--fill-color);\n",
              "      border-top-color: var(--fill-color);\n",
              "      border-right-color: var(--fill-color);\n",
              "    }\n",
              "    40% {\n",
              "      border-color: transparent;\n",
              "      border-right-color: var(--fill-color);\n",
              "      border-top-color: var(--fill-color);\n",
              "    }\n",
              "    60% {\n",
              "      border-color: transparent;\n",
              "      border-right-color: var(--fill-color);\n",
              "    }\n",
              "    80% {\n",
              "      border-color: transparent;\n",
              "      border-right-color: var(--fill-color);\n",
              "      border-bottom-color: var(--fill-color);\n",
              "    }\n",
              "    90% {\n",
              "      border-color: transparent;\n",
              "      border-bottom-color: var(--fill-color);\n",
              "    }\n",
              "  }\n",
              "</style>\n",
              "\n",
              "  <script>\n",
              "    async function quickchart(key) {\n",
              "      const quickchartButtonEl =\n",
              "        document.querySelector('#' + key + ' button');\n",
              "      quickchartButtonEl.disabled = true;  // To prevent multiple clicks.\n",
              "      quickchartButtonEl.classList.add('colab-df-spinner');\n",
              "      try {\n",
              "        const charts = await google.colab.kernel.invokeFunction(\n",
              "            'suggestCharts', [key], {});\n",
              "      } catch (error) {\n",
              "        console.error('Error during call to suggestCharts:', error);\n",
              "      }\n",
              "      quickchartButtonEl.classList.remove('colab-df-spinner');\n",
              "      quickchartButtonEl.classList.add('colab-df-quickchart-complete');\n",
              "    }\n",
              "    (() => {\n",
              "      let quickchartButtonEl =\n",
              "        document.querySelector('#df-73fb0ceb-547f-452c-8e62-35d8f675c812 button');\n",
              "      quickchartButtonEl.style.display =\n",
              "        google.colab.kernel.accessAllowed ? 'block' : 'none';\n",
              "    })();\n",
              "  </script>\n",
              "</div>\n",
              "\n",
              "  <div id=\"id_40f730aa-1315-4d51-9174-c4fbbf66216c\">\n",
              "    <style>\n",
              "      .colab-df-generate {\n",
              "        background-color: #E8F0FE;\n",
              "        border: none;\n",
              "        border-radius: 50%;\n",
              "        cursor: pointer;\n",
              "        display: none;\n",
              "        fill: #1967D2;\n",
              "        height: 32px;\n",
              "        padding: 0 0 0 0;\n",
              "        width: 32px;\n",
              "      }\n",
              "\n",
              "      .colab-df-generate:hover {\n",
              "        background-color: #E2EBFA;\n",
              "        box-shadow: 0px 1px 2px rgba(60, 64, 67, 0.3), 0px 1px 3px 1px rgba(60, 64, 67, 0.15);\n",
              "        fill: #174EA6;\n",
              "      }\n",
              "\n",
              "      [theme=dark] .colab-df-generate {\n",
              "        background-color: #3B4455;\n",
              "        fill: #D2E3FC;\n",
              "      }\n",
              "\n",
              "      [theme=dark] .colab-df-generate:hover {\n",
              "        background-color: #434B5C;\n",
              "        box-shadow: 0px 1px 3px 1px rgba(0, 0, 0, 0.15);\n",
              "        filter: drop-shadow(0px 1px 2px rgba(0, 0, 0, 0.3));\n",
              "        fill: #FFFFFF;\n",
              "      }\n",
              "    </style>\n",
              "    <button class=\"colab-df-generate\" onclick=\"generateWithVariable('data')\"\n",
              "            title=\"Generate code using this dataframe.\"\n",
              "            style=\"display:none;\">\n",
              "\n",
              "  <svg xmlns=\"http://www.w3.org/2000/svg\" height=\"24px\"viewBox=\"0 0 24 24\"\n",
              "       width=\"24px\">\n",
              "    <path d=\"M7,19H8.4L18.45,9,17,7.55,7,17.6ZM5,21V16.75L18.45,3.32a2,2,0,0,1,2.83,0l1.4,1.43a1.91,1.91,0,0,1,.58,1.4,1.91,1.91,0,0,1-.58,1.4L9.25,21ZM18.45,9,17,7.55Zm-12,3A5.31,5.31,0,0,0,4.9,8.1,5.31,5.31,0,0,0,1,6.5,5.31,5.31,0,0,0,4.9,4.9,5.31,5.31,0,0,0,6.5,1,5.31,5.31,0,0,0,8.1,4.9,5.31,5.31,0,0,0,12,6.5,5.46,5.46,0,0,0,6.5,12Z\"/>\n",
              "  </svg>\n",
              "    </button>\n",
              "    <script>\n",
              "      (() => {\n",
              "      const buttonEl =\n",
              "        document.querySelector('#id_40f730aa-1315-4d51-9174-c4fbbf66216c button.colab-df-generate');\n",
              "      buttonEl.style.display =\n",
              "        google.colab.kernel.accessAllowed ? 'block' : 'none';\n",
              "\n",
              "      buttonEl.onclick = () => {\n",
              "        google.colab.notebook.generateWithVariable('data');\n",
              "      }\n",
              "      })();\n",
              "    </script>\n",
              "  </div>\n",
              "\n",
              "    </div>\n",
              "  </div>\n"
            ],
            "application/vnd.google.colaboratory.intrinsic+json": {
              "type": "dataframe",
              "variable_name": "data",
              "summary": "{\n  \"name\": \"data\",\n  \"rows\": 1000,\n  \"fields\": [\n    {\n      \"column\": \"gender\",\n      \"properties\": {\n        \"dtype\": \"category\",\n        \"num_unique_values\": 2,\n        \"samples\": [\n          \"female\",\n          \"male\"\n        ],\n        \"semantic_type\": \"\",\n        \"description\": \"\"\n      }\n    },\n    {\n      \"column\": \"race/ethnicity\",\n      \"properties\": {\n        \"dtype\": \"category\",\n        \"num_unique_values\": 5,\n        \"samples\": [\n          \"group D\",\n          \"group C\"\n        ],\n        \"semantic_type\": \"\",\n        \"description\": \"\"\n      }\n    },\n    {\n      \"column\": \"parental level of education\",\n      \"properties\": {\n        \"dtype\": \"category\",\n        \"num_unique_values\": 6,\n        \"samples\": [\n          \"high school\",\n          \"some high school\"\n        ],\n        \"semantic_type\": \"\",\n        \"description\": \"\"\n      }\n    },\n    {\n      \"column\": \"lunch\",\n      \"properties\": {\n        \"dtype\": \"category\",\n        \"num_unique_values\": 2,\n        \"samples\": [\n          \"free/reduced\",\n          \"standard\"\n        ],\n        \"semantic_type\": \"\",\n        \"description\": \"\"\n      }\n    },\n    {\n      \"column\": \"test preparation course\",\n      \"properties\": {\n        \"dtype\": \"category\",\n        \"num_unique_values\": 2,\n        \"samples\": [\n          \"none\",\n          \"completed\"\n        ],\n        \"semantic_type\": \"\",\n        \"description\": \"\"\n      }\n    },\n    {\n      \"column\": \"math score\",\n      \"properties\": {\n        \"dtype\": \"number\",\n        \"std\": 15.395726543709086,\n        \"min\": 13.0,\n        \"max\": 100.0,\n        \"num_unique_values\": 77,\n        \"samples\": [\n          78.0,\n          36.0\n        ],\n        \"semantic_type\": \"\",\n        \"description\": \"\"\n      }\n    },\n    {\n      \"column\": \"reading score\",\n      \"properties\": {\n        \"dtype\": \"number\",\n        \"std\": 14.702819196974701,\n        \"min\": 27.0,\n        \"max\": 100.0,\n        \"num_unique_values\": 73,\n        \"samples\": [\n          73.0,\n          50.0\n        ],\n        \"semantic_type\": \"\",\n        \"description\": \"\"\n      }\n    },\n    {\n      \"column\": \"writing score\",\n      \"properties\": {\n        \"dtype\": \"number\",\n        \"std\": 15.607340839684449,\n        \"min\": 23.0,\n        \"max\": 100.0,\n        \"num_unique_values\": 76,\n        \"samples\": [\n          76.0,\n          62.0\n        ],\n        \"semantic_type\": \"\",\n        \"description\": \"\"\n      }\n    }\n  ]\n}"
            }
          },
          "metadata": {},
          "execution_count": 5
        }
      ]
    },
    {
      "cell_type": "code",
      "source": [
        "data.isnull().sum()"
      ],
      "metadata": {
        "colab": {
          "base_uri": "https://localhost:8080/"
        },
        "id": "OpdnrXgBsoUV",
        "outputId": "0a3afbbf-626d-4bb3-c3d2-7b60e63f2f80"
      },
      "execution_count": 6,
      "outputs": [
        {
          "output_type": "execute_result",
          "data": {
            "text/plain": [
              "gender                         5\n",
              "race/ethnicity                 0\n",
              "parental level of education    0\n",
              "lunch                          0\n",
              "test preparation course        0\n",
              "math score                     2\n",
              "reading score                  6\n",
              "writing score                  1\n",
              "dtype: int64"
            ]
          },
          "metadata": {},
          "execution_count": 6
        }
      ]
    },
    {
      "cell_type": "code",
      "source": [
        "data[\"gender\"].mode()\n",
        "data[\"gender\"].fillna(\"male\", inplace=True)"
      ],
      "metadata": {
        "id": "FlD7cnBhtCj8"
      },
      "execution_count": 8,
      "outputs": []
    },
    {
      "cell_type": "code",
      "source": [
        "data[\"math score\"].mean()\n",
        "data[\"math score\"].fillna(\"66.3807\", inplace=True)"
      ],
      "metadata": {
        "id": "YWiAQlHKt-IG"
      },
      "execution_count": 10,
      "outputs": []
    },
    {
      "cell_type": "code",
      "source": [
        "data[\"reading score\"].mean()\n",
        "data[\"reading score\"].fillna(\"69.0482\", inplace=True)"
      ],
      "metadata": {
        "id": "HZ0MLnP4uiBP"
      },
      "execution_count": 12,
      "outputs": []
    },
    {
      "cell_type": "code",
      "source": [
        "data[\"writing score\"].mean()\n",
        "data[\"writing score\"].fillna(\"67.7447\", inplace=True)"
      ],
      "metadata": {
        "id": "JBqlc-_Qv8-L"
      },
      "execution_count": 14,
      "outputs": []
    },
    {
      "cell_type": "code",
      "source": [
        "data.dtypes"
      ],
      "metadata": {
        "colab": {
          "base_uri": "https://localhost:8080/"
        },
        "id": "MH92TN_QxaNH",
        "outputId": "d616369c-cf1c-4798-b922-9d1e037158a2"
      },
      "execution_count": 16,
      "outputs": [
        {
          "output_type": "execute_result",
          "data": {
            "text/plain": [
              "gender                         object\n",
              "race/ethnicity                 object\n",
              "parental level of education    object\n",
              "lunch                          object\n",
              "test preparation course        object\n",
              "math score                     object\n",
              "reading score                  object\n",
              "writing score                  object\n",
              "dtype: object"
            ]
          },
          "metadata": {},
          "execution_count": 16
        }
      ]
    },
    {
      "cell_type": "code",
      "source": [
        "from sklearn import preprocessing\n",
        "le = preprocessing.LabelEncoder()"
      ],
      "metadata": {
        "id": "8Iir1lRUyoDd"
      },
      "execution_count": 17,
      "outputs": []
    },
    {
      "cell_type": "code",
      "source": [
        "data['gender'] = le.fit_transform(data['gender'])"
      ],
      "metadata": {
        "id": "rXvNU74nyvBk"
      },
      "execution_count": 18,
      "outputs": []
    },
    {
      "cell_type": "code",
      "source": [
        "data['race/ethnicity'] = le.fit_transform(data['race/ethnicity'])"
      ],
      "metadata": {
        "id": "TKtxiTW2yykJ"
      },
      "execution_count": 19,
      "outputs": []
    },
    {
      "cell_type": "code",
      "source": [
        "data['parental level of education'] = le.fit_transform(data['parental level of education'])"
      ],
      "metadata": {
        "id": "qeJ3MN26y1iv"
      },
      "execution_count": 20,
      "outputs": []
    },
    {
      "cell_type": "code",
      "source": [
        "data['lunch'] = le.fit_transform(data['lunch'])"
      ],
      "metadata": {
        "id": "XKl2d6oYy5eE"
      },
      "execution_count": 21,
      "outputs": []
    },
    {
      "cell_type": "code",
      "source": [
        "data['test preparation course'] = le.fit_transform(data['test preparation course'])"
      ],
      "metadata": {
        "id": "TNPl0ogxy72Z"
      },
      "execution_count": 22,
      "outputs": []
    },
    {
      "cell_type": "code",
      "source": [
        "data['math score'].dtype"
      ],
      "metadata": {
        "colab": {
          "base_uri": "https://localhost:8080/"
        },
        "id": "mRJlJPwuz5Ou",
        "outputId": "38943af1-be07-4d43-879d-39fbf6c09ae2"
      },
      "execution_count": 26,
      "outputs": [
        {
          "output_type": "execute_result",
          "data": {
            "text/plain": [
              "dtype('O')"
            ]
          },
          "metadata": {},
          "execution_count": 26
        }
      ]
    },
    {
      "cell_type": "code",
      "source": [
        "data['math score'] = data['math score'].astype(float)"
      ],
      "metadata": {
        "id": "Y1ogQPWb0BO_"
      },
      "execution_count": 27,
      "outputs": []
    },
    {
      "cell_type": "code",
      "source": [
        "data['math score'].dtype"
      ],
      "metadata": {
        "colab": {
          "base_uri": "https://localhost:8080/"
        },
        "id": "z6a6uAsf0F8g",
        "outputId": "d3e47503-c755-423e-9d45-ca9c3e925df3"
      },
      "execution_count": 28,
      "outputs": [
        {
          "output_type": "execute_result",
          "data": {
            "text/plain": [
              "dtype('float64')"
            ]
          },
          "metadata": {},
          "execution_count": 28
        }
      ]
    },
    {
      "cell_type": "code",
      "source": [
        "data['reading score'] = data['reading score'].astype(float)"
      ],
      "metadata": {
        "id": "OcvdIVzn0LuU"
      },
      "execution_count": 29,
      "outputs": []
    },
    {
      "cell_type": "code",
      "source": [
        "data['writing score'] = data['writing score'].astype(float)"
      ],
      "metadata": {
        "id": "IVk93NVg0VCr"
      },
      "execution_count": 30,
      "outputs": []
    },
    {
      "cell_type": "code",
      "source": [
        "data.dtypes"
      ],
      "metadata": {
        "colab": {
          "base_uri": "https://localhost:8080/"
        },
        "id": "qU6_SDzE0cfQ",
        "outputId": "d62dd07c-df3b-4c25-8fa4-0dcbb11a1ad3"
      },
      "execution_count": 32,
      "outputs": [
        {
          "output_type": "execute_result",
          "data": {
            "text/plain": [
              "gender                           int64\n",
              "race/ethnicity                   int64\n",
              "parental level of education      int64\n",
              "lunch                            int64\n",
              "test preparation course          int64\n",
              "math score                     float64\n",
              "reading score                  float64\n",
              "writing score                  float64\n",
              "dtype: object"
            ]
          },
          "metadata": {},
          "execution_count": 32
        }
      ]
    },
    {
      "cell_type": "code",
      "source": [
        "from sklearn.tree import DecisionTreeClassifier\n",
        "from sklearn.model_selection import  train_test_split\n",
        "from sklearn.metrics import accuracy_score\n",
        "\n",
        "# Split features and target\n",
        "X = data.drop(columns=['writing score'])\n",
        "y = data['writing score']\n",
        "\n",
        "# Split data into training and testing sets\n",
        "X_train, X_test, y_train, y_test = train_test_split(X, y, test_size=0.25, random_state=42)\n",
        "\n",
        "# Define the Decision Tree classifier with desired parameters\n",
        "classifier = DecisionTreeClassifier(max_depth=5, criterion='gini')\n",
        "\n",
        "# Train the classifier\n",
        "classifier.fit(X_train, y_train)\n",
        "\n",
        "# Predict on the test set\n",
        "y_pred = classifier.predict(X_test)"
      ],
      "metadata": {
        "id": "hWGNZLEYzBjw"
      },
      "execution_count": 34,
      "outputs": []
    },
    {
      "cell_type": "code",
      "source": [
        "y_test"
      ],
      "metadata": {
        "colab": {
          "base_uri": "https://localhost:8080/"
        },
        "id": "qr8mB8gW1RxW",
        "outputId": "d150978c-193f-49e7-9003-887259c82d0b"
      },
      "execution_count": 35,
      "outputs": [
        {
          "output_type": "execute_result",
          "data": {
            "text/plain": [
              "521    82.0\n",
              "737    81.0\n",
              "740    51.0\n",
              "660    97.0\n",
              "411    72.0\n",
              "       ... \n",
              "109    33.0\n",
              "430    85.0\n",
              "77     81.0\n",
              "84     39.0\n",
              "286    84.0\n",
              "Name: writing score, Length: 250, dtype: float64"
            ]
          },
          "metadata": {},
          "execution_count": 35
        }
      ]
    },
    {
      "cell_type": "code",
      "source": [
        "y_pred"
      ],
      "metadata": {
        "colab": {
          "base_uri": "https://localhost:8080/"
        },
        "id": "JwNnneH61hHG",
        "outputId": "409d5b1b-689a-4673-dbf5-2f8a3db09798"
      },
      "execution_count": 36,
      "outputs": [
        {
          "output_type": "execute_result",
          "data": {
            "text/plain": [
              "array([ 77.,  80.,  47.,  84.,  75.,  71., 100.,  80.,  80.,  80.,  63.,\n",
              "        63.,  53.,  71.,  40.,  40.,  80.,  80.,  80.,  80.,  56.,  75.,\n",
              "        66.,  84.,  65.,  84.,  80.,  77.,  66.,  63.,  80.,  71.,  48.,\n",
              "        80.,  71.,  63.,  65.,  80.,  65.,  48.,  61., 100.,  47.,  62.,\n",
              "        40.,  80.,  63.,  71.,  63.,  66.,  63.,  47.,  47.,  66.,  56.,\n",
              "        80.,  63.,  80.,  65.,  80.,  48.,  53.,  89.,  63.,  95.,  84.,\n",
              "        88.,  53.,  63.,  61.,  40.,  80.,  82.,  63.,  71.,  66., 100.,\n",
              "        80.,  71.,  63.,  62.,  62.,  80.,  48.,  89.,  47.,  71.,  71.,\n",
              "        62.,  66.,  80.,  53.,  71.,  61.,  80.,  71.,  77.,  48.,  80.,\n",
              "        95.,  89.,  48.,  48.,  80.,  80.,  47.,  77.,  80.,  89.,  71.,\n",
              "        61.,  66.,  71., 100.,  82.,  71.,  80.,  47.,  77.,  61.,  40.,\n",
              "        80.,  56.,  66.,  88.,  48.,  80.,  71.,  82.,  80.,  89.,  66.,\n",
              "        71.,  71.,  63.,  61.,  71.,  56.,  47.,  66.,  84.,  71.,  89.,\n",
              "       100.,  40.,  66.,  47.,  39.,  75.,  82.,  63.,  88.,  56.,  80.,\n",
              "        71.,  47.,  80.,  80.,  66.,  80.,  56.,  80.,  39.,  80.,  75.,\n",
              "        47.,  62.,  39.,  66.,  65.,  47.,  40.,  89.,  61.,  63.,  80.,\n",
              "        62.,  89.,  95.,  71.,  63.,  40.,  53.,  80.,  63.,  63.,  56.,\n",
              "        63.,  80.,  63.,  48.,  39.,  63.,  66.,  63.,  47.,  53.,  89.,\n",
              "        82.,  71.,  53.,  89.,  63.,  66.,  71.,  82.,  89.,  66.,  66.,\n",
              "        80.,  71.,  77.,  63.,  82.,  80.,  89.,  80.,  77.,  63.,  77.,\n",
              "        56.,  62.,  80.,  63.,  66.,  62.,  80.,  63.,  71.,  66.,  80.,\n",
              "        77.,  82.,  84.,  63.,  75.,  75.,  61.,  63.,  80.,  80.,  77.,\n",
              "        80.,  47.,  62.,  39.,  80.,  89.,  39.,  89.])"
            ]
          },
          "metadata": {},
          "execution_count": 36
        }
      ]
    },
    {
      "cell_type": "code",
      "source": [
        "y"
      ],
      "metadata": {
        "colab": {
          "base_uri": "https://localhost:8080/"
        },
        "id": "jA0fXxSa1rKV",
        "outputId": "e6c9e743-221d-4772-9ada-4d6ca91c2254"
      },
      "execution_count": 37,
      "outputs": [
        {
          "output_type": "execute_result",
          "data": {
            "text/plain": [
              "0      63.0\n",
              "1      55.0\n",
              "2      50.0\n",
              "3      68.0\n",
              "4      68.0\n",
              "       ... \n",
              "995    65.0\n",
              "996    92.0\n",
              "997    41.0\n",
              "998    82.0\n",
              "999    62.0\n",
              "Name: writing score, Length: 1000, dtype: float64"
            ]
          },
          "metadata": {},
          "execution_count": 37
        }
      ]
    },
    {
      "cell_type": "code",
      "source": [
        "# Input feature values from the user\n",
        "feature_values = []\n",
        "for feature_name in X.columns:\n",
        "    value = input(f\"Enter value for {feature_name}: \")\n",
        "    feature_values.append(float(value))\n",
        "\n",
        "# Predict the target variable based on user input\n",
        "predicted_target = classifier.predict([feature_values])\n",
        "\n",
        "print(\"Predicted writing score:\", predicted_target[0])"
      ],
      "metadata": {
        "colab": {
          "base_uri": "https://localhost:8080/"
        },
        "id": "2LdiJpm42IvX",
        "outputId": "de778ecf-a85d-44fe-98eb-0261053396f6"
      },
      "execution_count": 39,
      "outputs": [
        {
          "output_type": "stream",
          "name": "stdout",
          "text": [
            "Enter value for gender: 1\n",
            "Enter value for race/ethnicity: 3\n",
            "Enter value for parental level of education: 3\n",
            "Enter value for lunch: 0\n",
            "Enter value for test preparation course: 0\n",
            "Enter value for math score: 80\n",
            "Enter value for reading score: 70\n",
            "Predicted target variable: 71.0\n"
          ]
        },
        {
          "output_type": "stream",
          "name": "stderr",
          "text": [
            "/usr/local/lib/python3.10/dist-packages/sklearn/base.py:439: UserWarning: X does not have valid feature names, but DecisionTreeClassifier was fitted with feature names\n",
            "  warnings.warn(\n"
          ]
        }
      ]
    },
    {
      "cell_type": "code",
      "source": [
        "from sklearn.neighbors import KNeighborsClassifier\n",
        "\n",
        "# Split data into training and testing sets\n",
        "X_train, X_test, y_train, y_test = train_test_split(X, y, test_size=0.2, random_state=42)\n",
        "\n",
        "# Define the K-Nearest Neighbors classifier with desired parameters\n",
        "classifier = KNeighborsClassifier(n_neighbors=5)\n",
        "\n",
        "# Train the classifier\n",
        "classifier.fit(X_train, y_train)\n",
        "\n",
        "# Predict on the test set\n",
        "y_pred = classifier.predict(X_test)"
      ],
      "metadata": {
        "id": "qLpvyOAk4H1Y"
      },
      "execution_count": 40,
      "outputs": []
    },
    {
      "cell_type": "code",
      "source": [
        "y_test"
      ],
      "metadata": {
        "colab": {
          "base_uri": "https://localhost:8080/"
        },
        "id": "e4R8Ydk84Nia",
        "outputId": "663b66d4-4ae5-4d07-dfce-df5ec0f8df68"
      },
      "execution_count": 41,
      "outputs": [
        {
          "output_type": "execute_result",
          "data": {
            "text/plain": [
              "521    82.0\n",
              "737    81.0\n",
              "740    51.0\n",
              "660    97.0\n",
              "411    72.0\n",
              "       ... \n",
              "408    43.0\n",
              "332    43.0\n",
              "208    84.0\n",
              "613    82.0\n",
              "78     76.0\n",
              "Name: writing score, Length: 200, dtype: float64"
            ]
          },
          "metadata": {},
          "execution_count": 41
        }
      ]
    },
    {
      "cell_type": "code",
      "source": [
        "y_pred"
      ],
      "metadata": {
        "colab": {
          "base_uri": "https://localhost:8080/"
        },
        "id": "ArJQKPv64QMx",
        "outputId": "46229baf-a11e-4092-dae0-b0299b5ff821"
      },
      "execution_count": 42,
      "outputs": [
        {
          "output_type": "execute_result",
          "data": {
            "text/plain": [
              "array([ 71.,  85.,  44.,  83.,  65.,  64., 100.,  82.,  79.,  72.,  56.,\n",
              "        53.,  50.,  64.,  24.,  24.,  81.,  67.,  72.,  76.,  51.,  71.,\n",
              "        63.,  83.,  58.,  85.,  69.,  86.,  60.,  63.,  68.,  64.,  33.,\n",
              "        80.,  71.,  60.,  64.,  87.,  64.,  53.,  50., 100.,  48.,  53.,\n",
              "        38.,  70.,  58.,  62.,  54.,  63.,  54.,  44.,  33.,  62.,  45.,\n",
              "        76.,  59.,  80.,  64.,  86.,  48.,  49.,  83.,  61.,  86.,  81.,\n",
              "        96.,  60.,  64.,  63.,  32.,  70.,  72.,  66.,  70.,  66.,  88.,\n",
              "        80.,  66.,  57.,  54.,  54.,  86.,  38.,  83.,  33.,  64.,  72.,\n",
              "        54.,  49.,  72.,  50.,  68.,  63.,  76.,  73.,  73.,  44.,  78.,\n",
              "        97.,  78.,  43.,  33.,  68.,  86.,  49.,  70.,  73.,  84.,  62.,\n",
              "        53.,  65.,  70., 100.,  83.,  65.,  78.,  44.,  69.,  51.,  35.,\n",
              "        86.,  46.,  70.,  89.,  42.,  79.,  64.,  71.,  77.,  84.,  58.,\n",
              "        64.,  65.,  66.,  61.,  63.,  56.,  48.,  69.,  85.,  68.,  89.,\n",
              "       100.,  32.,  60.,  43.,  41.,  73.,  71.,  57.,  97.,  47.,  82.,\n",
              "        70.,  27.,  70.,  71.,  60.,  73.,  49.,  82.,  27.,  71.,  75.,\n",
              "        49.,  52.,  23.,  65.,  65.,  47.,  42.,  90.,  54.,  54.,  79.,\n",
              "        63.,  90.,  81.,  62.,  59.,  40.,  44.,  72.,  68.,  63.,  57.,\n",
              "        57.,  70.,  63.,  43.,  23.,  58.,  64.,  64.,  48.,  50.,  84.,\n",
              "        71.,  68.])"
            ]
          },
          "metadata": {},
          "execution_count": 42
        }
      ]
    },
    {
      "cell_type": "code",
      "source": [
        "# Input feature values from the user\n",
        "feature_values = []\n",
        "for feature_name in X.columns:\n",
        "    value = input(f\"Enter value for {feature_name}: \")\n",
        "    feature_values.append(float(value))\n",
        "\n",
        "# Predict the target variable based on user input\n",
        "predicted_target = classifier.predict([feature_values])\n",
        "\n",
        "print(\"Predicted writing score:\", predicted_target[0])"
      ],
      "metadata": {
        "colab": {
          "base_uri": "https://localhost:8080/",
          "height": 341
        },
        "id": "oPsa9lta5EmX",
        "outputId": "2b8b4df6-7e30-40da-d769-900fb628e527"
      },
      "execution_count": 49,
      "outputs": [
        {
          "name": "stdout",
          "output_type": "stream",
          "text": [
            "Enter value for gender: 0\n",
            "Enter value for race/ethnicity: 1\n",
            "Enter value for parental level of education: 0\n",
            "Enter value for lunch: 0\n",
            "Enter value for test preparation course: 2\n",
            "Enter value for math score: 60\n",
            "Enter value for reading score: 55\n"
          ]
        },
        {
          "output_type": "error",
          "ename": "TypeError",
          "evalue": "KNeighborsClassifier.predict() missing 1 required positional argument: 'X'",
          "traceback": [
            "\u001b[0;31m---------------------------------------------------------------------------\u001b[0m",
            "\u001b[0;31mTypeError\u001b[0m                                 Traceback (most recent call last)",
            "\u001b[0;32m<ipython-input-49-59b03eb47b1d>\u001b[0m in \u001b[0;36m<cell line: 8>\u001b[0;34m()\u001b[0m\n\u001b[1;32m      6\u001b[0m \u001b[0;34m\u001b[0m\u001b[0m\n\u001b[1;32m      7\u001b[0m \u001b[0;31m# Predict the target variable based on user input\u001b[0m\u001b[0;34m\u001b[0m\u001b[0;34m\u001b[0m\u001b[0m\n\u001b[0;32m----> 8\u001b[0;31m \u001b[0mpredicted_target\u001b[0m \u001b[0;34m=\u001b[0m \u001b[0mKNeighborsClassifier\u001b[0m\u001b[0;34m.\u001b[0m\u001b[0mpredict\u001b[0m\u001b[0;34m(\u001b[0m\u001b[0;34m[\u001b[0m\u001b[0mfeature_values\u001b[0m\u001b[0;34m]\u001b[0m\u001b[0;34m)\u001b[0m\u001b[0;34m\u001b[0m\u001b[0;34m\u001b[0m\u001b[0m\n\u001b[0m\u001b[1;32m      9\u001b[0m \u001b[0;34m\u001b[0m\u001b[0m\n\u001b[1;32m     10\u001b[0m \u001b[0mprint\u001b[0m\u001b[0;34m(\u001b[0m\u001b[0;34m\"Predicted writing score:\"\u001b[0m\u001b[0;34m,\u001b[0m \u001b[0mpredicted_target\u001b[0m\u001b[0;34m[\u001b[0m\u001b[0;36m0\u001b[0m\u001b[0;34m]\u001b[0m\u001b[0;34m)\u001b[0m\u001b[0;34m\u001b[0m\u001b[0;34m\u001b[0m\u001b[0m\n",
            "\u001b[0;31mTypeError\u001b[0m: KNeighborsClassifier.predict() missing 1 required positional argument: 'X'"
          ]
        }
      ]
    },
    {
      "cell_type": "code",
      "source": [
        "# Importing necessary libraries\n",
        "from sklearn.linear_model import LinearRegression\n",
        "\n",
        "# Sample dataset (features and target variable)\n",
        "# Replace X and y with your dataset\n",
        "X = data.drop(columns=['writing score'])\n",
        "y = data['writing score']\n",
        "\n",
        "# Splitting the dataset into training and testing sets\n",
        "X_train, X_test, y_train, y_test = train_test_split(X, y, test_size=0.2, random_state=42)\n",
        "\n",
        "# Creating a Linear Regression model\n",
        "model = LinearRegression()\n",
        "\n",
        "# Training the model\n",
        "model.fit(X_train, y_train)\n",
        "\n",
        "# Making predictions\n",
        "y_pred = model.predict(X_test)"
      ],
      "metadata": {
        "id": "j5OKCfHr4ciF"
      },
      "execution_count": 44,
      "outputs": []
    },
    {
      "cell_type": "code",
      "source": [
        "y_test"
      ],
      "metadata": {
        "colab": {
          "base_uri": "https://localhost:8080/"
        },
        "id": "bXxV-wN94xPC",
        "outputId": "1de88a44-89dd-40d5-e925-8cc4eac769ac"
      },
      "execution_count": 45,
      "outputs": [
        {
          "output_type": "execute_result",
          "data": {
            "text/plain": [
              "521    82.0\n",
              "737    81.0\n",
              "740    51.0\n",
              "660    97.0\n",
              "411    72.0\n",
              "       ... \n",
              "408    43.0\n",
              "332    43.0\n",
              "208    84.0\n",
              "613    82.0\n",
              "78     76.0\n",
              "Name: writing score, Length: 200, dtype: float64"
            ]
          },
          "metadata": {},
          "execution_count": 45
        }
      ]
    },
    {
      "cell_type": "code",
      "source": [
        "y_pred"
      ],
      "metadata": {
        "colab": {
          "base_uri": "https://localhost:8080/"
        },
        "id": "AstqdXlu40BK",
        "outputId": "0b882298-61f1-4a91-cf5c-5b23c0145507"
      },
      "execution_count": 46,
      "outputs": [
        {
          "output_type": "execute_result",
          "data": {
            "text/plain": [
              "array([ 83.04982045,  78.30344679,  48.44489049,  94.10140152,\n",
              "        71.95748867,  70.60463141, 101.64277204,  81.59948004,\n",
              "        86.22889869,  77.32224027,  57.21715902,  59.74539045,\n",
              "        53.87004887,  69.20163648,  32.21697474,  30.47197164,\n",
              "        77.12798875,  76.47477224,  75.14392593,  79.51011406,\n",
              "        55.43849312,  75.5161786 ,  74.34160286,  95.57844406,\n",
              "        71.41867032,  93.01300747,  76.10115475,  76.71620623,\n",
              "        70.52707847,  64.50785841,  79.94711132,  68.61092541,\n",
              "        45.52550031,  84.93669366,  74.48207111,  65.58960484,\n",
              "        71.77151551,  84.19322428,  68.59920918,  51.83314178,\n",
              "        58.22194751, 103.75963881,  44.61701883,  60.0921992 ,\n",
              "        40.84812501,  77.60586101,  66.25661371,  72.07856871,\n",
              "        61.68644543,  68.77685694,  60.18395896,  48.36941369,\n",
              "        46.2291418 ,  71.95419475,  52.46225802,  76.27844458,\n",
              "        65.4655501 ,  86.65682051,  67.92126016,  80.85205043,\n",
              "        43.00104043,  52.49518526,  86.34687836,  64.64092262,\n",
              "        96.90116162,  89.86991662,  95.40185968,  59.67894248,\n",
              "        70.40600153,  60.49463976,  39.81300467,  76.45328854,\n",
              "        74.04817286,  69.72195169,  66.04796789,  64.39632985,\n",
              "       101.57620775,  82.04035387,  66.95977756,  58.52681519,\n",
              "        61.20291265,  59.23446191,  81.80066828,  47.20209208,\n",
              "        79.4830391 ,  45.27210164,  74.72270367,  75.74501565,\n",
              "        55.43513942,  68.59660581,  80.46629887,  54.77634484,\n",
              "        71.38957464,  59.98658728,  84.85537256,  67.33536466,\n",
              "        72.73461626,  54.91147028,  79.78916468,  96.84645721,\n",
              "        89.20020573,  51.31010649,  46.44544469,  74.09631368,\n",
              "        83.06543252,  47.24883105,  74.04358647,  85.13469738,\n",
              "        89.62102505,  67.31266776,  56.50182066,  62.9802815 ,\n",
              "        69.69149917, 102.52496925,  66.6786508 ,  71.32999028,\n",
              "        87.49366293,  46.53458172,  76.50780887,  60.18151308,\n",
              "        41.34804554,  82.58519366,  59.54088893,  68.58543647,\n",
              "        92.24808171,  46.17165135,  75.1257704 ,  70.20778979,\n",
              "        77.9538505 ,  81.91449877,  87.68910829,  70.90917097,\n",
              "        66.84085121,  66.6610823 ,  67.43812437,  64.07270013,\n",
              "        71.751461  ,  57.61699612,  42.42187154,  64.98407268,\n",
              "        86.98577526,  65.41059265,  93.46738456,  99.44523889,\n",
              "        43.81899455,  62.45325866,  51.87965156,  30.63205887,\n",
              "        79.87029703,  79.88646367,  65.14646176,  91.86314498,\n",
              "        59.05113563,  79.68824395,  75.82579016,  44.28624436,\n",
              "        79.25353086,  76.32468167,  63.67438918,  75.03918864,\n",
              "        53.15869039,  80.73730031,  40.65695757,  73.90212653,\n",
              "        72.2055623 ,  52.01630324,  57.15987201,  25.36812138,\n",
              "        65.14291939,  69.5314763 ,  45.47827922,  44.6223809 ,\n",
              "        89.84453706,  62.46434871,  64.05783852,  80.12340223,\n",
              "        59.13375718,  89.61662733,  90.96514704,  72.91848904,\n",
              "        58.89630915,  41.55181151,  47.46240641,  78.07308349,\n",
              "        60.99359595,  66.61510135,  55.15258506,  65.13078531,\n",
              "        84.67241912,  63.51428427,  48.71212624,  34.36989327,\n",
              "        66.81048233,  62.28055521,  60.13544081,  45.99634453,\n",
              "        50.40613211,  83.82916474,  78.00463173,  70.57253987])"
            ]
          },
          "metadata": {},
          "execution_count": 46
        }
      ]
    },
    {
      "cell_type": "code",
      "source": [
        "# Input feature values from the user\n",
        "feature_values = []\n",
        "for feature_name in X.columns:\n",
        "    value = input(f\"Enter value for {feature_name}: \")\n",
        "    feature_values.append(float(value))\n",
        "\n",
        "# Predict the target variable based on user input\n",
        "predicted_target = model.predict([feature_values])\n",
        "\n",
        "print(\"Predicted writing score:\", predicted_target[0])"
      ],
      "metadata": {
        "colab": {
          "base_uri": "https://localhost:8080/"
        },
        "id": "MWRi5shc5SHs",
        "outputId": "a9da622a-393c-46a7-b26a-b98420f2ccd8"
      },
      "execution_count": 50,
      "outputs": [
        {
          "output_type": "stream",
          "name": "stdout",
          "text": [
            "Enter value for gender: 1\n",
            "Enter value for race/ethnicity: 2\n",
            "Enter value for parental level of education: 0\n",
            "Enter value for lunch: 1\n",
            "Enter value for test preparation course: 1\n",
            "Enter value for math score: 55\n",
            "Enter value for reading score: 60\n",
            "Predicted writing score: 55.08247839796575\n"
          ]
        },
        {
          "output_type": "stream",
          "name": "stderr",
          "text": [
            "/usr/local/lib/python3.10/dist-packages/sklearn/base.py:439: UserWarning: X does not have valid feature names, but LinearRegression was fitted with feature names\n",
            "  warnings.warn(\n"
          ]
        }
      ]
    }
  ]
}